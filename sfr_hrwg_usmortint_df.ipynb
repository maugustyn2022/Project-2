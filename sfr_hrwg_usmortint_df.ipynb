{
 "cells": [
  {
   "cell_type": "code",
   "execution_count": 62,
   "metadata": {},
   "outputs": [],
   "source": [
    "# Libraries\n",
    "from pathlib import Path\n",
    "import pandas as pd"
   ]
  },
  {
   "cell_type": "code",
   "execution_count": 63,
   "metadata": {},
   "outputs": [],
   "source": [
    "# CSV paths\n",
    "sfr_nash_path = Path(\"../Project-2/sfr_perm_nash.csv\")\n",
    "sfr_char_path = Path(\"../Project-2/sfr_perm_char.csv\")\n",
    "sfr_atl_path = Path(\"../Project-2/sfr_perm_atl.csv\")\n",
    "hrwg_nash_path = Path(\"../Project-2/hr_wage_nash.csv\")\n",
    "hrwg_char_path = Path(\"../Project-2/hr_wage_char.csv\")\n",
    "hrwg_atl_path = Path(\"../Project-2/hr_wage_atl.csv\")\n"
   ]
  },
  {
   "cell_type": "code",
   "execution_count": 64,
   "metadata": {},
   "outputs": [],
   "source": [
    "# read dfs\n",
    "sfr_nash_df = pd.read_csv(sfr_nash_path)\n",
    "sfr_char_df = pd.read_csv(sfr_char_path)\n",
    "sfr_atl_df = pd.read_csv(sfr_atl_path)\n",
    "hrwg_nash_df = pd.read_csv(hrwg_nash_path)\n",
    "hrwg_char_df = pd.read_csv(hrwg_char_path)\n",
    "hrwg_atl_df = pd.read_csv(hrwg_atl_path)\n"
   ]
  },
  {
   "cell_type": "code",
   "execution_count": 65,
   "metadata": {},
   "outputs": [],
   "source": [
    "# Name columns\n",
    "sfr_col_names = [\"Date\", \"# of SFR Permits\"]\n",
    "\n",
    "sfr_nash_df.columns = sfr_col_names\n",
    "sfr_char_df.columns = sfr_col_names\n",
    "sfr_atl_df.columns = sfr_col_names\n",
    "\n",
    "hrwg_col_names = [\"Date\", \"Avg. Hourly Wage\"]\n",
    "\n",
    "hrwg_nash_df.columns = hrwg_col_names\n",
    "hrwg_char_df.columns = hrwg_col_names\n",
    "hrwg_atl_df.columns = hrwg_col_names\n"
   ]
  },
  {
   "cell_type": "code",
   "execution_count": 66,
   "metadata": {},
   "outputs": [],
   "source": [
    "# Change hourly wage to percentage change\n",
    "hrwg_nash_df[\"Avg. Hourly Wage\"] =  hrwg_nash_df[\"Avg. Hourly Wage\"].pct_change()*100\n",
    "hrwg_char_df[\"Avg. Hourly Wage\"] =  hrwg_char_df[\"Avg. Hourly Wage\"].pct_change()*100\n",
    "hrwg_atl_df[\"Avg. Hourly Wage\"] =  hrwg_atl_df[\"Avg. Hourly Wage\"].pct_change()*100\n"
   ]
  },
  {
   "cell_type": "code",
   "execution_count": 67,
   "metadata": {},
   "outputs": [],
   "source": [
    "# Set dates as index\n",
    "sfr_nash_df.set_index(pd.to_datetime(sfr_nash_df['Date'], infer_datetime_format=True), inplace=True)\n",
    "sfr_char_df.set_index(pd.to_datetime(sfr_char_df['Date'], infer_datetime_format=True), inplace=True)\n",
    "sfr_atl_df.set_index(pd.to_datetime(sfr_atl_df['Date'], infer_datetime_format=True), inplace=True)\n",
    "hrwg_nash_df.set_index(pd.to_datetime(hrwg_nash_df['Date'], infer_datetime_format=True), inplace=True)\n",
    "hrwg_char_df.set_index(pd.to_datetime(hrwg_char_df['Date'], infer_datetime_format=True), inplace=True)\n",
    "hrwg_atl_df.set_index(pd.to_datetime(hrwg_atl_df['Date'], infer_datetime_format=True), inplace=True)\n",
    "\n",
    "# Remove excess Date headers\n",
    "sfr_nash_df.drop(columns='Date', inplace=True)\n",
    "sfr_char_df.drop(columns='Date', inplace=True)\n",
    "sfr_atl_df.drop(columns='Date', inplace=True)\n",
    "hrwg_nash_df.drop(columns='Date', inplace=True)\n",
    "hrwg_char_df.drop(columns='Date', inplace=True)\n",
    "hrwg_atl_df.drop(columns='Date', inplace=True)\n"
   ]
  },
  {
   "cell_type": "code",
   "execution_count": 69,
   "metadata": {},
   "outputs": [
    {
     "data": {
      "text/html": [
       "<div>\n",
       "<style scoped>\n",
       "    .dataframe tbody tr th:only-of-type {\n",
       "        vertical-align: middle;\n",
       "    }\n",
       "\n",
       "    .dataframe tbody tr th {\n",
       "        vertical-align: top;\n",
       "    }\n",
       "\n",
       "    .dataframe thead th {\n",
       "        text-align: right;\n",
       "    }\n",
       "</style>\n",
       "<table border=\"1\" class=\"dataframe\">\n",
       "  <thead>\n",
       "    <tr style=\"text-align: right;\">\n",
       "      <th></th>\n",
       "      <th># of SFR Permits</th>\n",
       "      <th>Avg. Hourly Wage</th>\n",
       "    </tr>\n",
       "    <tr>\n",
       "      <th>Date</th>\n",
       "      <th></th>\n",
       "      <th></th>\n",
       "    </tr>\n",
       "  </thead>\n",
       "  <tbody>\n",
       "    <tr>\n",
       "      <th>2007-01-01</th>\n",
       "      <td>3040.0</td>\n",
       "      <td>NaN</td>\n",
       "    </tr>\n",
       "    <tr>\n",
       "      <th>2007-02-01</th>\n",
       "      <td>3108.0</td>\n",
       "      <td>0.674738</td>\n",
       "    </tr>\n",
       "    <tr>\n",
       "      <th>2007-03-01</th>\n",
       "      <td>3877.0</td>\n",
       "      <td>5.343960</td>\n",
       "    </tr>\n",
       "    <tr>\n",
       "      <th>2007-04-01</th>\n",
       "      <td>3252.0</td>\n",
       "      <td>-4.482927</td>\n",
       "    </tr>\n",
       "    <tr>\n",
       "      <th>2007-05-01</th>\n",
       "      <td>3103.0</td>\n",
       "      <td>-0.313713</td>\n",
       "    </tr>\n",
       "  </tbody>\n",
       "</table>\n",
       "</div>"
      ],
      "text/plain": [
       "            # of SFR Permits  Avg. Hourly Wage\n",
       "Date                                          \n",
       "2007-01-01            3040.0               NaN\n",
       "2007-02-01            3108.0          0.674738\n",
       "2007-03-01            3877.0          5.343960\n",
       "2007-04-01            3252.0         -4.482927\n",
       "2007-05-01            3103.0         -0.313713"
      ]
     },
     "execution_count": 69,
     "metadata": {},
     "output_type": "execute_result"
    }
   ],
   "source": [
    "nash_combined_df = pd.concat([sfr_nash_df, hrwg_nash_df], axis='columns', join='inner')\n",
    "char_combined_df = pd.concat([sfr_char_df, hrwg_char_df], axis='columns', join='inner')\n",
    "atl_combined_df = pd.concat([sfr_atl_df, hrwg_atl_df], axis='columns', join='inner')\n",
    "\n",
    "atl_combined_df.head()"
   ]
  },
  {
   "cell_type": "code",
   "execution_count": 53,
   "metadata": {},
   "outputs": [],
   "source": [
    "# US Mortgage rates paths\n",
    "us_mort_wk_path = Path(\"../Project-2/us_mort_wk.csv\")\n",
    "us_mort_mnth_path = Path(\"../Project-2/us_mort_mnth.csv\")\n",
    "\n",
    "# read US mort csv\n",
    "us_mort_wk_df = pd.read_csv(us_mort_wk_path)\n",
    "us_mort_mnth_df = pd.read_csv(us_mort_mnth_path)\n",
    "\n",
    "# Name columns\n",
    "us_mort_col_names = [\"Date\", \"Avg. Mortgage Rate\"]\n",
    "\n",
    "us_mort_wk_df.columns = us_mort_col_names\n",
    "us_mort_mnth_df.columns = us_mort_col_names\n",
    "\n",
    "# Set dates as index\n",
    "us_mort_wk_df.set_index(pd.to_datetime(us_mort_wk_df['Date'], infer_datetime_format=True), inplace=True)\n",
    "us_mort_mnth_df.set_index(pd.to_datetime(us_mort_mnth_df['Date'], infer_datetime_format=True), inplace=True)\n",
    "\n",
    "# Remove excess Date headers\n",
    "us_mort_wk_df.drop(columns='Date', inplace=True)\n",
    "us_mort_mnth_df.drop(columns='Date', inplace=True)\n"
   ]
  },
  {
   "cell_type": "code",
   "execution_count": 54,
   "metadata": {},
   "outputs": [
    {
     "data": {
      "text/html": [
       "<div>\n",
       "<style scoped>\n",
       "    .dataframe tbody tr th:only-of-type {\n",
       "        vertical-align: middle;\n",
       "    }\n",
       "\n",
       "    .dataframe tbody tr th {\n",
       "        vertical-align: top;\n",
       "    }\n",
       "\n",
       "    .dataframe thead th {\n",
       "        text-align: right;\n",
       "    }\n",
       "</style>\n",
       "<table border=\"1\" class=\"dataframe\">\n",
       "  <thead>\n",
       "    <tr style=\"text-align: right;\">\n",
       "      <th></th>\n",
       "      <th>Avg. Mortgage Rate</th>\n",
       "    </tr>\n",
       "    <tr>\n",
       "      <th>Date</th>\n",
       "      <th></th>\n",
       "    </tr>\n",
       "  </thead>\n",
       "  <tbody>\n",
       "    <tr>\n",
       "      <th>2016-05-12</th>\n",
       "      <td>3.57</td>\n",
       "    </tr>\n",
       "    <tr>\n",
       "      <th>2016-05-19</th>\n",
       "      <td>3.58</td>\n",
       "    </tr>\n",
       "    <tr>\n",
       "      <th>2016-05-26</th>\n",
       "      <td>3.64</td>\n",
       "    </tr>\n",
       "    <tr>\n",
       "      <th>2016-06-02</th>\n",
       "      <td>3.66</td>\n",
       "    </tr>\n",
       "    <tr>\n",
       "      <th>2016-06-09</th>\n",
       "      <td>3.60</td>\n",
       "    </tr>\n",
       "  </tbody>\n",
       "</table>\n",
       "</div>"
      ],
      "text/plain": [
       "            Avg. Mortgage Rate\n",
       "Date                          \n",
       "2016-05-12                3.57\n",
       "2016-05-19                3.58\n",
       "2016-05-26                3.64\n",
       "2016-06-02                3.66\n",
       "2016-06-09                3.60"
      ]
     },
     "execution_count": 54,
     "metadata": {},
     "output_type": "execute_result"
    }
   ],
   "source": [
    "us_mort_wk_df.head()"
   ]
  },
  {
   "cell_type": "code",
   "execution_count": 52,
   "metadata": {},
   "outputs": [
    {
     "ename": "TypeError",
     "evalue": "Only valid with DatetimeIndex, TimedeltaIndex or PeriodIndex, but got an instance of 'Index'",
     "output_type": "error",
     "traceback": [
      "\u001b[1;31m---------------------------------------------------------------------------\u001b[0m",
      "\u001b[1;31mTypeError\u001b[0m                                 Traceback (most recent call last)",
      "\u001b[1;32m<ipython-input-52-dc8ea6d47339>\u001b[0m in \u001b[0;36m<module>\u001b[1;34m\u001b[0m\n\u001b[1;32m----> 1\u001b[1;33m \u001b[0mus_mort_wk2mnth\u001b[0m \u001b[1;33m=\u001b[0m \u001b[0mus_mort_wk_df\u001b[0m\u001b[1;33m.\u001b[0m\u001b[0mresample\u001b[0m\u001b[1;33m(\u001b[0m\u001b[1;34m'M'\u001b[0m\u001b[1;33m,\u001b[0m \u001b[0mon\u001b[0m\u001b[1;33m=\u001b[0m\u001b[1;34m'Date'\u001b[0m\u001b[1;33m)\u001b[0m\u001b[1;33m.\u001b[0m\u001b[0mmean\u001b[0m\u001b[1;33m(\u001b[0m\u001b[1;33m)\u001b[0m\u001b[1;33m\u001b[0m\u001b[1;33m\u001b[0m\u001b[0m\n\u001b[0m\u001b[0;32m      2\u001b[0m \u001b[0mus_mort_wk2mnth\u001b[0m\u001b[1;33m.\u001b[0m\u001b[0mhead\u001b[0m\u001b[1;33m(\u001b[0m\u001b[1;33m)\u001b[0m\u001b[1;33m\u001b[0m\u001b[1;33m\u001b[0m\u001b[0m\n",
      "\u001b[1;32m~\\anaconda3\\envs\\mlenv\\lib\\site-packages\\pandas\\core\\generic.py\u001b[0m in \u001b[0;36mresample\u001b[1;34m(self, rule, how, axis, fill_method, closed, label, convention, kind, loffset, limit, base, on, level)\u001b[0m\n\u001b[0;32m   8153\u001b[0m                      \u001b[0maxis\u001b[0m\u001b[1;33m=\u001b[0m\u001b[0maxis\u001b[0m\u001b[1;33m,\u001b[0m \u001b[0mkind\u001b[0m\u001b[1;33m=\u001b[0m\u001b[0mkind\u001b[0m\u001b[1;33m,\u001b[0m \u001b[0mloffset\u001b[0m\u001b[1;33m=\u001b[0m\u001b[0mloffset\u001b[0m\u001b[1;33m,\u001b[0m\u001b[1;33m\u001b[0m\u001b[1;33m\u001b[0m\u001b[0m\n\u001b[0;32m   8154\u001b[0m                      \u001b[0mconvention\u001b[0m\u001b[1;33m=\u001b[0m\u001b[0mconvention\u001b[0m\u001b[1;33m,\u001b[0m\u001b[1;33m\u001b[0m\u001b[1;33m\u001b[0m\u001b[0m\n\u001b[1;32m-> 8155\u001b[1;33m                      base=base, key=on, level=level)\n\u001b[0m\u001b[0;32m   8156\u001b[0m         return _maybe_process_deprecations(r,\n\u001b[0;32m   8157\u001b[0m                                            \u001b[0mhow\u001b[0m\u001b[1;33m=\u001b[0m\u001b[0mhow\u001b[0m\u001b[1;33m,\u001b[0m\u001b[1;33m\u001b[0m\u001b[1;33m\u001b[0m\u001b[0m\n",
      "\u001b[1;32m~\\anaconda3\\envs\\mlenv\\lib\\site-packages\\pandas\\core\\resample.py\u001b[0m in \u001b[0;36mresample\u001b[1;34m(obj, kind, **kwds)\u001b[0m\n\u001b[0;32m   1248\u001b[0m     \"\"\"\n\u001b[0;32m   1249\u001b[0m     \u001b[0mtg\u001b[0m \u001b[1;33m=\u001b[0m \u001b[0mTimeGrouper\u001b[0m\u001b[1;33m(\u001b[0m\u001b[1;33m**\u001b[0m\u001b[0mkwds\u001b[0m\u001b[1;33m)\u001b[0m\u001b[1;33m\u001b[0m\u001b[1;33m\u001b[0m\u001b[0m\n\u001b[1;32m-> 1250\u001b[1;33m     \u001b[1;32mreturn\u001b[0m \u001b[0mtg\u001b[0m\u001b[1;33m.\u001b[0m\u001b[0m_get_resampler\u001b[0m\u001b[1;33m(\u001b[0m\u001b[0mobj\u001b[0m\u001b[1;33m,\u001b[0m \u001b[0mkind\u001b[0m\u001b[1;33m=\u001b[0m\u001b[0mkind\u001b[0m\u001b[1;33m)\u001b[0m\u001b[1;33m\u001b[0m\u001b[1;33m\u001b[0m\u001b[0m\n\u001b[0m\u001b[0;32m   1251\u001b[0m \u001b[1;33m\u001b[0m\u001b[0m\n\u001b[0;32m   1252\u001b[0m \u001b[1;33m\u001b[0m\u001b[0m\n",
      "\u001b[1;32m~\\anaconda3\\envs\\mlenv\\lib\\site-packages\\pandas\\core\\resample.py\u001b[0m in \u001b[0;36m_get_resampler\u001b[1;34m(self, obj, kind)\u001b[0m\n\u001b[0;32m   1378\u001b[0m         raise TypeError(\"Only valid with DatetimeIndex, \"\n\u001b[0;32m   1379\u001b[0m                         \u001b[1;34m\"TimedeltaIndex or PeriodIndex, \"\u001b[0m\u001b[1;33m\u001b[0m\u001b[1;33m\u001b[0m\u001b[0m\n\u001b[1;32m-> 1380\u001b[1;33m                         \"but got an instance of %r\" % type(ax).__name__)\n\u001b[0m\u001b[0;32m   1381\u001b[0m \u001b[1;33m\u001b[0m\u001b[0m\n\u001b[0;32m   1382\u001b[0m     \u001b[1;32mdef\u001b[0m \u001b[0m_get_grouper\u001b[0m\u001b[1;33m(\u001b[0m\u001b[0mself\u001b[0m\u001b[1;33m,\u001b[0m \u001b[0mobj\u001b[0m\u001b[1;33m,\u001b[0m \u001b[0mvalidate\u001b[0m\u001b[1;33m=\u001b[0m\u001b[1;32mTrue\u001b[0m\u001b[1;33m)\u001b[0m\u001b[1;33m:\u001b[0m\u001b[1;33m\u001b[0m\u001b[1;33m\u001b[0m\u001b[0m\n",
      "\u001b[1;31mTypeError\u001b[0m: Only valid with DatetimeIndex, TimedeltaIndex or PeriodIndex, but got an instance of 'Index'"
     ]
    }
   ],
   "source": [
    "# us_mort_wk2mnth = us_mort_wk_df.resample('M', on='Date').mean()\n",
    "# us_mort_wk2mnth.head()"
   ]
  },
  {
   "cell_type": "code",
   "execution_count": null,
   "metadata": {},
   "outputs": [],
   "source": []
  }
 ],
 "metadata": {
  "kernelspec": {
   "display_name": "Python [conda env:mlenv] *",
   "language": "python",
   "name": "conda-env-mlenv-py"
  },
  "language_info": {
   "codemirror_mode": {
    "name": "ipython",
    "version": 3
   },
   "file_extension": ".py",
   "mimetype": "text/x-python",
   "name": "python",
   "nbconvert_exporter": "python",
   "pygments_lexer": "ipython3",
   "version": "3.7.9"
  }
 },
 "nbformat": 4,
 "nbformat_minor": 4
}
